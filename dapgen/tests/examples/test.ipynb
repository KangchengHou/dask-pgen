{
 "cells": [
  {
   "cell_type": "code",
   "execution_count": 55,
   "id": "bc761cf1-521f-43d0-8144-49c15ae9932a",
   "metadata": {},
   "outputs": [
    {
     "name": "stdout",
     "output_type": "stream",
     "text": [
      "The autoreload extension is already loaded. To reload it, use:\n",
      "  %reload_ext autoreload\n"
     ]
    }
   ],
   "source": [
    "%load_ext autoreload\n",
    "%autoreload 2"
   ]
  },
  {
   "cell_type": "code",
   "execution_count": 56,
   "id": "b747577f-93b4-4307-9133-d6a0634336c8",
   "metadata": {},
   "outputs": [],
   "source": [
    "import numpy as np\n",
    "import xrpgen\n",
    "import pandas_plink"
   ]
  },
  {
   "cell_type": "code",
   "execution_count": 82,
   "id": "c4dae441-6207-4d16-b958-86b413295ffe",
   "metadata": {},
   "outputs": [],
   "source": [
    "d1 = xrpgen.read_pgen(xrpgen.get_test_data(\"plink1.bed\"), phase=True)"
   ]
  },
  {
   "cell_type": "code",
   "execution_count": 71,
   "id": "6155c78c-3df9-4c89-9058-dc0b66580f08",
   "metadata": {},
   "outputs": [],
   "source": [
    "d2 = xrpgen.read_pgen(\"../test-data/plink1.bed\")"
   ]
  },
  {
   "cell_type": "code",
   "execution_count": 25,
   "id": "14503cc1-aa74-4b3a-9e87-5ee47edaf996",
   "metadata": {},
   "outputs": [
    {
     "name": "stderr",
     "output_type": "stream",
     "text": [
      "Mapping files: 100%|██████████| 3/3 [00:00<00:00, 184.44it/s]\n"
     ]
    }
   ],
   "source": [
    "from os.path import join\n",
    "bim, fam, bed = pandas_plink.read_plink(join(pandas_plink.get_data_folder(), \"data\"))"
   ]
  },
  {
   "cell_type": "code",
   "execution_count": 39,
   "id": "632521f0-8dc7-45cf-a470-a3cd23fe0c14",
   "metadata": {},
   "outputs": [],
   "source": [
    "pandas_plink_rls = pandas_plink.read_plink1_bin(join(pandas_plink.get_data_folder(), \"data.bed\"), ref=\"a0\", verbose=False)"
   ]
  },
  {
   "cell_type": "code",
   "execution_count": 85,
   "id": "ab0d94c5-ee93-41d7-8631-defc0d1a7eda",
   "metadata": {},
   "outputs": [
    {
     "data": {
      "text/html": [
       "<table>\n",
       "<tr>\n",
       "<td>\n",
       "<table>\n",
       "  <thead>\n",
       "    <tr><td> </td><th> Array </th><th> Chunk </th></tr>\n",
       "  </thead>\n",
       "  <tbody>\n",
       "    <tr><th> Bytes </th><td> 120 B </td> <td> 120 B </td></tr>\n",
       "    <tr><th> Shape </th><td> (3, 10) </td> <td> (3, 10) </td></tr>\n",
       "    <tr><th> Count </th><td> 3 Tasks </td><td> 1 Chunks </td></tr>\n",
       "    <tr><th> Type </th><td> float32 </td><td> numpy.ndarray </td></tr>\n",
       "  </tbody>\n",
       "</table>\n",
       "</td>\n",
       "<td>\n",
       "<svg width=\"170\" height=\"93\" style=\"stroke:rgb(0,0,0);stroke-width:1\" >\n",
       "\n",
       "  <!-- Horizontal lines -->\n",
       "  <line x1=\"0\" y1=\"0\" x2=\"120\" y2=\"0\" style=\"stroke-width:2\" />\n",
       "  <line x1=\"0\" y1=\"43\" x2=\"120\" y2=\"43\" style=\"stroke-width:2\" />\n",
       "\n",
       "  <!-- Vertical lines -->\n",
       "  <line x1=\"0\" y1=\"0\" x2=\"0\" y2=\"43\" style=\"stroke-width:2\" />\n",
       "  <line x1=\"120\" y1=\"0\" x2=\"120\" y2=\"43\" style=\"stroke-width:2\" />\n",
       "\n",
       "  <!-- Colored Rectangle -->\n",
       "  <polygon points=\"0.0,0.0 120.0,0.0 120.0,43.54481495527667 0.0,43.54481495527667\" style=\"fill:#ECB172A0;stroke-width:0\"/>\n",
       "\n",
       "  <!-- Text -->\n",
       "  <text x=\"60.000000\" y=\"63.544815\" font-size=\"1.0rem\" font-weight=\"100\" text-anchor=\"middle\" >10</text>\n",
       "  <text x=\"140.000000\" y=\"21.772407\" font-size=\"1.0rem\" font-weight=\"100\" text-anchor=\"middle\" transform=\"rotate(0,140.000000,21.772407)\">3</text>\n",
       "</svg>\n",
       "</td>\n",
       "</tr>\n",
       "</table>"
      ],
      "text/plain": [
       "dask.array<transpose, shape=(3, 10), dtype=float32, chunksize=(3, 10), chunktype=numpy.ndarray>"
      ]
     },
     "execution_count": 85,
     "metadata": {},
     "output_type": "execute_result"
    }
   ],
   "source": [
    "pandas_plink_rls.data"
   ]
  },
  {
   "cell_type": "code",
   "execution_count": 87,
   "id": "86bd5e7c-645a-47bf-860c-6a0f27b7da42",
   "metadata": {},
   "outputs": [],
   "source": [
    "    path = xrpgen.get_test_data(\"plink1.bed\")\n",
    "    d1 = pandas_plink.read_plink1_bin(path, ref=\"a0\", verbose=False).data\n",
    "    d2 = xrpgen.read_pgen(path, phase=False)"
   ]
  },
  {
   "cell_type": "code",
   "execution_count": 93,
   "id": "10ed0d8f-cf7a-4bb2-9718-fcde0629e29b",
   "metadata": {},
   "outputs": [
    {
     "data": {
      "text/plain": [
       "array([[ True,  True, False, False,  True,  True,  True,  True,  True,\n",
       "         True],\n",
       "       [ True,  True, False, False,  True,  True,  True,  True,  True,\n",
       "         True],\n",
       "       [ True,  True, False,  True,  True,  True,  True,  True,  True,\n",
       "         True]])"
      ]
     },
     "execution_count": 93,
     "metadata": {},
     "output_type": "execute_result"
    }
   ],
   "source": [
    "d1.compute() == d2.compute()"
   ]
  },
  {
   "cell_type": "code",
   "execution_count": 100,
   "id": "cf313cd7-bdb4-4291-a1d4-8cd3918ff121",
   "metadata": {},
   "outputs": [],
   "source": [
    "assert np.allclose(d1, d2, equal_nan=True)"
   ]
  },
  {
   "cell_type": "code",
   "execution_count": 92,
   "id": "27c86af8-77d4-4bfd-827b-26e0ae1cc082",
   "metadata": {},
   "outputs": [
    {
     "data": {
      "text/html": [
       "<table>\n",
       "<tr>\n",
       "<td>\n",
       "<table>\n",
       "  <thead>\n",
       "    <tr><td> </td><th> Array </th><th> Chunk </th></tr>\n",
       "  </thead>\n",
       "  <tbody>\n",
       "    <tr><th> Bytes </th><td> 1 B </td> <td> 1.0 B </td></tr>\n",
       "    <tr><th> Shape </th><td> () </td> <td> () </td></tr>\n",
       "    <tr><th> Count </th><td> 8 Tasks </td><td> 1 Chunks </td></tr>\n",
       "    <tr><th> Type </th><td> bool </td><td> numpy.ndarray </td></tr>\n",
       "  </tbody>\n",
       "</table>\n",
       "</td>\n",
       "<td>\n",
       "\n",
       "</td>\n",
       "</tr>\n",
       "</table>"
      ],
      "text/plain": [
       "dask.array<all-aggregate, shape=(), dtype=bool, chunksize=(), chunktype=numpy.ndarray>"
      ]
     },
     "execution_count": 92,
     "metadata": {},
     "output_type": "execute_result"
    }
   ],
   "source": [
    "(d1 == d2).all()"
   ]
  },
  {
   "cell_type": "code",
   "execution_count": null,
   "id": "6d38c028-596c-4340-b02f-172a0b223ba1",
   "metadata": {},
   "outputs": [],
   "source": []
  }
 ],
 "metadata": {
  "kernelspec": {
   "display_name": "Python 3",
   "language": "python",
   "name": "python3"
  },
  "language_info": {
   "codemirror_mode": {
    "name": "ipython",
    "version": 3
   },
   "file_extension": ".py",
   "mimetype": "text/x-python",
   "name": "python",
   "nbconvert_exporter": "python",
   "pygments_lexer": "ipython3",
   "version": "3.8.5"
  }
 },
 "nbformat": 4,
 "nbformat_minor": 5
}
