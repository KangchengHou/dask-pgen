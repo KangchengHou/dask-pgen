{
 "cells": [
  {
   "cell_type": "code",
   "execution_count": 55,
   "id": "bc761cf1-521f-43d0-8144-49c15ae9932a",
   "metadata": {},
   "outputs": [
    {
     "name": "stdout",
     "output_type": "stream",
     "text": [
      "The autoreload extension is already loaded. To reload it, use:\n",
      "  %reload_ext autoreload\n"
     ]
    }
   ],
   "source": [
    "%load_ext autoreload\n",
    "%autoreload 2"
   ]
  },
  {
   "cell_type": "code",
   "execution_count": 56,
   "id": "b747577f-93b4-4307-9133-d6a0634336c8",
   "metadata": {},
   "outputs": [],
   "source": [
    "import numpy as np\n",
    "import xrpgen\n",
    "import pandas_plink"
   ]
  },
  {
   "cell_type": "code",
   "execution_count": 82,
   "id": "c4dae441-6207-4d16-b958-86b413295ffe",
   "metadata": {},
   "outputs": [],
   "source": [
    "d1 = xrpgen.read_pgen(xrpgen.get_test_data(\"plink1.bed\"), phase=True)"
   ]
  },
  {
   "cell_type": "code",
   "execution_count": 71,
   "id": "6155c78c-3df9-4c89-9058-dc0b66580f08",
   "metadata": {},
   "outputs": [],
   "source": [
    "d2 = xrpgen.read_pgen(\"../test-data/plink1.bed\")"
   ]
  },
  {
   "cell_type": "code",
   "execution_count": 25,
   "id": "14503cc1-aa74-4b3a-9e87-5ee47edaf996",
   "metadata": {},
   "outputs": [
    {
     "name": "stderr",
     "output_type": "stream",
     "text": [
      "Mapping files: 100%|██████████| 3/3 [00:00<00:00, 184.44it/s]\n"
     ]
    }
   ],
   "source": [
    "from os.path import join\n",
    "bim, fam, bed = pandas_plink.read_plink(join(pandas_plink.get_data_folder(), \"data\"))"
   ]
  },
  {
   "cell_type": "code",
   "execution_count": 39,
   "id": "632521f0-8dc7-45cf-a470-a3cd23fe0c14",
   "metadata": {},
   "outputs": [],
   "source": [
    "pandas_plink_rls = pandas_plink.read_plink1_bin(join(pandas_plink.get_data_folder(), \"data.bed\"), ref=\"a0\", verbose=False)"
   ]
  },
  {
   "cell_type": "code",
   "execution_count": 45,
   "id": "f341be79-fd0d-4cf8-a301-f29dc7c4a3d3",
   "metadata": {},
   "outputs": [],
   "source": [
    "import pgenlib"
   ]
  },
  {
   "cell_type": "code",
   "execution_count": 51,
   "id": "c8eb22c7-c445-4361-99a7-46fc894da56e",
   "metadata": {},
   "outputs": [
    {
     "data": {
      "text/plain": [
       "array([[ 0,  0,  1],\n",
       "       [ 0,  1,  0],\n",
       "       [-9, -9, -9]], dtype=int32)"
      ]
     },
     "execution_count": 51,
     "metadata": {},
     "output_type": "execute_result"
    }
   ],
   "source": [
    "geno"
   ]
  },
  {
   "cell_type": "code",
   "execution_count": 49,
   "id": "079b8df8-4d8c-4aaa-9706-de5082894ecb",
   "metadata": {},
   "outputs": [
    {
     "data": {
      "text/plain": [
       "\u001b[0;31mDocstring:\u001b[0m <no docstring>\n",
       "\u001b[0;31mType:\u001b[0m      builtin_function_or_method\n"
      ]
     },
     "metadata": {},
     "output_type": "display_data"
    }
   ],
   "source": [
    "pgen.read_range"
   ]
  },
  {
   "cell_type": "code",
   "execution_count": 47,
   "id": "c54c8de1-8ada-4e91-89b7-95c48aa60c11",
   "metadata": {},
   "outputs": [
    {
     "data": {
      "text/plain": [
       "3"
      ]
     },
     "execution_count": 47,
     "metadata": {},
     "output_type": "execute_result"
    }
   ],
   "source": [
    "n_indiv"
   ]
  },
  {
   "cell_type": "code",
   "execution_count": 40,
   "id": "2667c3e0-9c65-42b7-9407-d33188b98ad4",
   "metadata": {},
   "outputs": [
    {
     "data": {
      "text/plain": [
       "array([[ 0.,  0., nan, nan,  0.,  0.,  0.,  0.,  1.,  0.],\n",
       "       [ 0.,  1., nan, nan,  0.,  0.,  1.,  0.,  0.,  1.],\n",
       "       [ 1.,  0., nan,  1.,  0.,  0.,  2.,  0.,  0.,  0.]], dtype=float32)"
      ]
     },
     "execution_count": 40,
     "metadata": {},
     "output_type": "execute_result"
    }
   ],
   "source": [
    "pandas_plink_rls.values"
   ]
  }
 ],
 "metadata": {
  "kernelspec": {
   "display_name": "Python 3",
   "language": "python",
   "name": "python3"
  },
  "language_info": {
   "codemirror_mode": {
    "name": "ipython",
    "version": 3
   },
   "file_extension": ".py",
   "mimetype": "text/x-python",
   "name": "python",
   "nbconvert_exporter": "python",
   "pygments_lexer": "ipython3",
   "version": "3.8.5"
  }
 },
 "nbformat": 4,
 "nbformat_minor": 5
}
